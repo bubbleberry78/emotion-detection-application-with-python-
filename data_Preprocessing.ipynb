{
  "cells": [
    {
      "cell_type": "code",
      "execution_count": 21,
      "metadata": {
        "id": "zwFnJsE6vjf8"
      },
      "outputs": [],
      "source": [
        "import cv2\n",
        "import os\n",
        "import numpy as np\n",
        "from sklearn.model_selection import train_test_split\n",
        "from tensorflow.keras.models import Sequential\n",
        "from tensorflow.keras.layers import Conv2D, MaxPooling2D, Flatten, Dense\n",
        "from tensorflow.keras.optimizers import Adam\n",
        "\n"
      ]
    },
    {
      "cell_type": "code",
      "source": [
        "def preprocess_images(dataset_dir, img_size=(48, 48)):\n",
        "    images = []\n",
        "    labels = []\n",
        "\n",
        "    # Define the emotions\n",
        "    emotions = [\"anger\", \"contempt\", \"disgust\", \"fear\", \"happy\", \"sadness\", \"surprise\"]\n",
        "\n",
        "    # Iterate through the emotion folders\n",
        "    for i, emotion in enumerate(emotions):\n",
        "        # Get the path to the emotion folder\n",
        "        emotion_dir = os.path.join(dataset_dir, emotion)\n",
        "\n",
        "        # Check if the emotion folder exists\n",
        "        if os.path.exists(emotion_dir):\n",
        "            # Iterate through the images in the emotion folder\n",
        "            for image_name in os.listdir(emotion_dir):\n",
        "                # Load and preprocess the image\n",
        "                img_path = os.path.join(emotion_dir, image_name)\n",
        "                img = cv2.imread(img_path, cv2.IMREAD_GRAYSCALE)\n",
        "                img = cv2.resize(img, img_size) / 255.0\n",
        "\n",
        "                # Append the preprocessed image and label to the lists\n",
        "                images.append(img)\n",
        "                labels.append(i)  # Use the index of the emotion as the label\n",
        "\n",
        "    return np.array(images), np.array(labels)"
      ],
      "metadata": {
        "id": "LseRvODpovgI"
      },
      "execution_count": 2,
      "outputs": []
    },
    {
      "cell_type": "code",
      "source": [],
      "metadata": {
        "id": "hidtNjmnpO05"
      },
      "execution_count": null,
      "outputs": []
    },
    {
      "cell_type": "code",
      "source": [
        "from google.colab import drive\n",
        "drive.mount('/content/drive',force_remount=True)"
      ],
      "metadata": {
        "colab": {
          "base_uri": "https://localhost:8080/"
        },
        "id": "kllB5L1XpTAy",
        "outputId": "5c6b41f0-ca80-41c5-ae6b-9e696f7136b9"
      },
      "execution_count": 3,
      "outputs": [
        {
          "output_type": "stream",
          "name": "stdout",
          "text": [
            "Mounted at /content/drive\n"
          ]
        }
      ]
    },
    {
      "cell_type": "code",
      "source": [
        "dataset_dir = \"/content/drive/My Drive/images\""
      ],
      "metadata": {
        "id": "sEIH-sCHpckC"
      },
      "execution_count": 8,
      "outputs": []
    },
    {
      "cell_type": "code",
      "source": [
        "images, labels = preprocess_images(dataset_dir)\n"
      ],
      "metadata": {
        "id": "OUmQbmvqpf5Q"
      },
      "execution_count": 9,
      "outputs": []
    },
    {
      "cell_type": "code",
      "source": [
        "print(\"Images shape:\", images.shape)\n",
        "print(\"Labels shape:\", labels.shape)"
      ],
      "metadata": {
        "colab": {
          "base_uri": "https://localhost:8080/"
        },
        "id": "ER9Vc4qkpkjf",
        "outputId": "cd197915-04fa-4314-9674-135c0df094b9"
      },
      "execution_count": 11,
      "outputs": [
        {
          "output_type": "stream",
          "name": "stdout",
          "text": [
            "Images shape: (981, 48, 48)\n",
            "Labels shape: (981,)\n"
          ]
        }
      ]
    },
    {
      "cell_type": "code",
      "source": [
        "train_images, test_images, train_labels, test_labels = train_test_split(images, labels, test_size=0.2, random_state=42)\n",
        "print(train_images.shape)\n",
        "print(test_images.shape)"
      ],
      "metadata": {
        "id": "lONgePRhqITN",
        "colab": {
          "base_uri": "https://localhost:8080/"
        },
        "outputId": "5c5577be-98c6-42e4-9c61-b7a23ec46343"
      },
      "execution_count": 12,
      "outputs": [
        {
          "output_type": "stream",
          "name": "stdout",
          "text": [
            "(784, 48, 48)\n",
            "(197, 48, 48)\n"
          ]
        }
      ]
    },
    {
      "cell_type": "code",
      "source": [
        "model = Sequential([\n",
        "    Conv2D(32, (3, 3), activation='relu', input_shape=(48, 48, 1)),\n",
        "    MaxPooling2D((2, 2)),\n",
        "    Conv2D(64, (3, 3), activation='relu'),\n",
        "    MaxPooling2D((2, 2)),\n",
        "    Flatten(),\n",
        "    Dense(128, activation='relu'),\n",
        "    Dense(7, activation='softmax')  # 7 output classes (one for each emotion)\n",
        "])"
      ],
      "metadata": {
        "id": "mvH1f4mNp6IG"
      },
      "execution_count": 13,
      "outputs": []
    },
    {
      "cell_type": "code",
      "source": [
        "model.compile(optimizer=Adam(), loss='sparse_categorical_crossentropy', metrics=['accuracy'])"
      ],
      "metadata": {
        "id": "4w2YIrfMp9pE"
      },
      "execution_count": 14,
      "outputs": []
    },
    {
      "cell_type": "code",
      "source": [
        "history = model.fit(train_images, train_labels, validation_split=0.2, epochs=20, batch_size=12)"
      ],
      "metadata": {
        "colab": {
          "base_uri": "https://localhost:8080/"
        },
        "id": "djfv-QNLqApf",
        "outputId": "3fc9ad6a-9795-4d26-8ae7-ad813efb434f"
      },
      "execution_count": 15,
      "outputs": [
        {
          "output_type": "stream",
          "name": "stdout",
          "text": [
            "Epoch 1/20\n",
            "53/53 [==============================] - 3s 43ms/step - loss: 1.6024 - accuracy: 0.4322 - val_loss: 1.4693 - val_accuracy: 0.5350\n",
            "Epoch 2/20\n",
            "53/53 [==============================] - 2s 39ms/step - loss: 0.8765 - accuracy: 0.7241 - val_loss: 0.6728 - val_accuracy: 0.7643\n",
            "Epoch 3/20\n",
            "53/53 [==============================] - 2s 39ms/step - loss: 0.4370 - accuracy: 0.8644 - val_loss: 0.5044 - val_accuracy: 0.8344\n",
            "Epoch 4/20\n",
            "53/53 [==============================] - 4s 68ms/step - loss: 0.2543 - accuracy: 0.9298 - val_loss: 0.3323 - val_accuracy: 0.8981\n",
            "Epoch 5/20\n",
            "53/53 [==============================] - 3s 51ms/step - loss: 0.1281 - accuracy: 0.9713 - val_loss: 0.2394 - val_accuracy: 0.9236\n",
            "Epoch 6/20\n",
            "53/53 [==============================] - 2s 40ms/step - loss: 0.0874 - accuracy: 0.9841 - val_loss: 0.2243 - val_accuracy: 0.9299\n",
            "Epoch 7/20\n",
            "53/53 [==============================] - 2s 39ms/step - loss: 0.1136 - accuracy: 0.9665 - val_loss: 0.1641 - val_accuracy: 0.9554\n",
            "Epoch 8/20\n",
            "53/53 [==============================] - 2s 40ms/step - loss: 0.0762 - accuracy: 0.9761 - val_loss: 0.2998 - val_accuracy: 0.9363\n",
            "Epoch 9/20\n",
            "53/53 [==============================] - 2s 39ms/step - loss: 0.0743 - accuracy: 0.9761 - val_loss: 0.2151 - val_accuracy: 0.9554\n",
            "Epoch 10/20\n",
            "53/53 [==============================] - 3s 64ms/step - loss: 0.0302 - accuracy: 0.9952 - val_loss: 0.2057 - val_accuracy: 0.9045\n",
            "Epoch 11/20\n",
            "53/53 [==============================] - 2s 46ms/step - loss: 0.0286 - accuracy: 0.9936 - val_loss: 0.1386 - val_accuracy: 0.9618\n",
            "Epoch 12/20\n",
            "53/53 [==============================] - 2s 39ms/step - loss: 0.0169 - accuracy: 0.9968 - val_loss: 0.1626 - val_accuracy: 0.9299\n",
            "Epoch 13/20\n",
            "53/53 [==============================] - 2s 40ms/step - loss: 0.0100 - accuracy: 1.0000 - val_loss: 0.1772 - val_accuracy: 0.9809\n",
            "Epoch 14/20\n",
            "53/53 [==============================] - 2s 40ms/step - loss: 0.0040 - accuracy: 1.0000 - val_loss: 0.1180 - val_accuracy: 0.9809\n",
            "Epoch 15/20\n",
            "53/53 [==============================] - 2s 39ms/step - loss: 0.0030 - accuracy: 1.0000 - val_loss: 0.1426 - val_accuracy: 0.9809\n",
            "Epoch 16/20\n",
            "53/53 [==============================] - 3s 66ms/step - loss: 0.0033 - accuracy: 1.0000 - val_loss: 0.1199 - val_accuracy: 0.9809\n",
            "Epoch 17/20\n",
            "53/53 [==============================] - 2s 46ms/step - loss: 0.0022 - accuracy: 1.0000 - val_loss: 0.1122 - val_accuracy: 0.9809\n",
            "Epoch 18/20\n",
            "53/53 [==============================] - 2s 40ms/step - loss: 0.0020 - accuracy: 1.0000 - val_loss: 0.1200 - val_accuracy: 0.9809\n",
            "Epoch 19/20\n",
            "53/53 [==============================] - 2s 44ms/step - loss: 0.0018 - accuracy: 1.0000 - val_loss: 0.1169 - val_accuracy: 0.9809\n",
            "Epoch 20/20\n",
            "53/53 [==============================] - 2s 40ms/step - loss: 9.5806e-04 - accuracy: 1.0000 - val_loss: 0.1419 - val_accuracy: 0.9809\n"
          ]
        }
      ]
    },
    {
      "cell_type": "code",
      "source": [
        "predictions = model.predict(test_images)"
      ],
      "metadata": {
        "colab": {
          "base_uri": "https://localhost:8080/"
        },
        "id": "W1JOF6tcjwOv",
        "outputId": "b971bd79-33b8-4beb-b9d8-668962417d2b"
      },
      "execution_count": 16,
      "outputs": [
        {
          "output_type": "stream",
          "name": "stdout",
          "text": [
            "7/7 [==============================] - 0s 19ms/step\n"
          ]
        }
      ]
    },
    {
      "cell_type": "code",
      "source": [
        "print(predictions)"
      ],
      "metadata": {
        "colab": {
          "base_uri": "https://localhost:8080/"
        },
        "id": "68PoxJ73j9wu",
        "outputId": "885f9a37-c004-4e63-b3a1-c8c0fd166598"
      },
      "execution_count": 17,
      "outputs": [
        {
          "output_type": "stream",
          "name": "stdout",
          "text": [
            "[[1.2153550e-13 3.6275800e-08 7.0996826e-11 ... 7.9533785e-14\n",
            "  9.9557349e-07 9.9999744e-01]\n",
            " [1.8348313e-15 5.6045859e-11 5.2499095e-11 ... 9.9999994e-01\n",
            "  2.4338185e-15 1.7880398e-14]\n",
            " [3.5561892e-04 9.9888480e-01 2.5216696e-07 ... 2.7780450e-06\n",
            "  9.5873584e-06 5.4612224e-06]\n",
            " ...\n",
            " [6.8813857e-17 1.0563114e-10 2.2357577e-15 ... 7.6036086e-19\n",
            "  4.2442085e-09 9.9999952e-01]\n",
            " [4.9743033e-11 9.3013950e-06 2.5460384e-08 ... 9.9997234e-01\n",
            "  6.9648671e-12 5.1279714e-10]\n",
            " [6.3839642e-17 5.6864400e-12 3.4376646e-12 ... 1.0000000e+00\n",
            "  5.8916895e-18 1.8597720e-13]]\n"
          ]
        }
      ]
    },
    {
      "cell_type": "code",
      "source": [
        "predicted_labels = np.argmax(predictions, axis=1)\n",
        "print(predicted_labels)"
      ],
      "metadata": {
        "colab": {
          "base_uri": "https://localhost:8080/"
        },
        "id": "-wymO91CkO3x",
        "outputId": "60c9ab82-045d-4699-8eb5-722e7aee5d83"
      },
      "execution_count": 18,
      "outputs": [
        {
          "output_type": "stream",
          "name": "stdout",
          "text": [
            "[6 4 1 4 0 6 6 4 6 2 4 0 4 4 6 6 0 4 4 6 6 5 4 5 6 3 6 2 2 6 0 0 6 5 2 5 0\n",
            " 2 6 5 6 6 4 2 0 4 6 2 6 2 2 4 0 6 2 2 6 0 6 1 0 2 6 3 2 5 6 0 4 2 5 2 5 4\n",
            " 1 0 6 1 4 2 4 2 4 6 6 4 6 6 2 0 2 4 2 2 4 4 2 2 6 4 3 5 5 5 6 6 6 6 0 4 6\n",
            " 2 0 2 1 0 2 4 3 2 4 4 4 6 2 2 6 4 5 2 4 6 3 2 0 4 4 3 2 4 1 2 4 2 5 0 4 4\n",
            " 2 2 3 4 6 3 6 6 1 1 4 2 4 6 3 4 6 2 4 3 4 0 0 5 2 6 6 1 4 3 0 1 2 3 2 5 6\n",
            " 6 5 6 2 0 5 3 4 2 6 4 4]\n"
          ]
        }
      ]
    },
    {
      "cell_type": "code",
      "source": [
        "test_loss, test_accuracy = model.evaluate(test_images, test_labels)\n",
        "print(\"Test Loss:\", test_loss)\n",
        "print(\"Test Accuracy:\", test_accuracy*100,\"%\")"
      ],
      "metadata": {
        "colab": {
          "base_uri": "https://localhost:8080/"
        },
        "id": "1Kjjhx0-qcJx",
        "outputId": "665a8502-5c60-4647-947b-dfe37a6e00c0"
      },
      "execution_count": 19,
      "outputs": [
        {
          "output_type": "stream",
          "name": "stdout",
          "text": [
            "7/7 [==============================] - 0s 19ms/step - loss: 0.1211 - accuracy: 0.9746\n",
            "Test Loss: 0.12114731967449188\n",
            "Test Accuracy: 97.46192693710327 %\n"
          ]
        }
      ]
    },
    {
      "cell_type": "code",
      "source": [
        "model.save('model_1.h5')"
      ],
      "metadata": {
        "colab": {
          "base_uri": "https://localhost:8080/"
        },
        "id": "Tu4b1BUOg_wo",
        "outputId": "7ef360de-919e-4f67-92ff-1f1efac99886"
      },
      "execution_count": 20,
      "outputs": [
        {
          "output_type": "stream",
          "name": "stderr",
          "text": [
            "/usr/local/lib/python3.10/dist-packages/keras/src/engine/training.py:3103: UserWarning: You are saving your model as an HDF5 file via `model.save()`. This file format is considered legacy. We recommend using instead the native Keras format, e.g. `model.save('my_model.keras')`.\n",
            "  saving_api.save_model(\n"
          ]
        }
      ]
    },
    {
      "cell_type": "code",
      "source": [
        "model.summary()"
      ],
      "metadata": {
        "colab": {
          "base_uri": "https://localhost:8080/"
        },
        "id": "wvTeqE4IqwCI",
        "outputId": "85372faf-1dc9-4772-f90e-7b5a6d93d4ed"
      },
      "execution_count": 23,
      "outputs": [
        {
          "output_type": "stream",
          "name": "stdout",
          "text": [
            "Model: \"sequential\"\n",
            "_________________________________________________________________\n",
            " Layer (type)                Output Shape              Param #   \n",
            "=================================================================\n",
            " conv2d (Conv2D)             (None, 46, 46, 32)        320       \n",
            "                                                                 \n",
            " max_pooling2d (MaxPooling2  (None, 23, 23, 32)        0         \n",
            " D)                                                              \n",
            "                                                                 \n",
            " conv2d_1 (Conv2D)           (None, 21, 21, 64)        18496     \n",
            "                                                                 \n",
            " max_pooling2d_1 (MaxPoolin  (None, 10, 10, 64)        0         \n",
            " g2D)                                                            \n",
            "                                                                 \n",
            " flatten (Flatten)           (None, 6400)              0         \n",
            "                                                                 \n",
            " dense (Dense)               (None, 128)               819328    \n",
            "                                                                 \n",
            " dense_1 (Dense)             (None, 7)                 903       \n",
            "                                                                 \n",
            "=================================================================\n",
            "Total params: 839047 (3.20 MB)\n",
            "Trainable params: 839047 (3.20 MB)\n",
            "Non-trainable params: 0 (0.00 Byte)\n",
            "_________________________________________________________________\n"
          ]
        }
      ]
    },
    {
      "cell_type": "code",
      "source": [
        "\n"
      ],
      "metadata": {
        "id": "qnll4GHKq2SS"
      },
      "execution_count": 20,
      "outputs": []
    },
    {
      "cell_type": "code",
      "source": [],
      "metadata": {
        "id": "LH5QL0-GrFAv"
      },
      "execution_count": 20,
      "outputs": []
    },
    {
      "cell_type": "code",
      "source": [],
      "metadata": {
        "id": "5dOvSieJrJAy"
      },
      "execution_count": 20,
      "outputs": []
    },
    {
      "cell_type": "code",
      "source": [
        "\n"
      ],
      "metadata": {
        "id": "nYGuwH1_slD7"
      },
      "execution_count": 20,
      "outputs": []
    },
    {
      "cell_type": "code",
      "source": [],
      "metadata": {
        "id": "N2EQ_xAwt2Rx"
      },
      "execution_count": 20,
      "outputs": []
    }
  ],
  "metadata": {
    "colab": {
      "provenance": []
    },
    "kernelspec": {
      "display_name": "Python 3",
      "name": "python3"
    }
  },
  "nbformat": 4,
  "nbformat_minor": 0
}